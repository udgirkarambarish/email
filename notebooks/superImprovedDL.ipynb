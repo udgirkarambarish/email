{
 "cells": [
  {
   "cell_type": "code",
   "execution_count": 1,
   "id": "1d45349a-2110-4901-939b-9aa7fed44ffe",
   "metadata": {},
   "outputs": [],
   "source": [
    "import pandas as pd\n",
    "import numpy as np\n",
    "import re\n",
    "import nltk\n",
    "from nltk.corpus import stopwords\n",
    "from nltk.stem import WordNetLemmatizer\n",
    "from sklearn.model_selection import train_test_split\n",
    "from sklearn.preprocessing import LabelEncoder\n",
    "from sklearn.metrics import classification_report, accuracy_score, f1_score\n",
    "from tensorflow.keras.preprocessing.text import Tokenizer\n",
    "from tensorflow.keras.preprocessing.sequence import pad_sequences\n",
    "from tensorflow.keras.models import Sequential\n",
    "from tensorflow.keras.layers import Embedding, Conv1D, MaxPooling1D, LSTM, Dense, Dropout, Bidirectional\n",
    "from tensorflow.keras.optimizers import Adam\n",
    "from tensorflow.keras.regularizers import l2\n",
    "from tensorflow.keras.utils import to_categorical\n",
    "from tensorflow.keras.callbacks import EarlyStopping, ModelCheckpoint\n",
    "from sklearn.metrics import confusion_matrix\n",
    "import matplotlib.pyplot as plt\n",
    "import seaborn as sns\n",
    "from sklearn.metrics import classification_report, accuracy_score, f1_score, confusion_matrix\n",
    "from tensorflow.keras.layers import BatchNormalization\n"
   ]
  },
  {
   "cell_type": "code",
   "execution_count": 2,
   "id": "31ebec41-da19-4518-a715-1ea779b24274",
   "metadata": {},
   "outputs": [],
   "source": [
    "# ========== STEP 1: Load and Label Data ==========\n",
    "def load_and_label_data(filepath, label):\n",
    "    df = pd.read_csv(filepath)\n",
    "    df['label'] = label\n",
    "    return df\n",
    "\n",
    "dataframes = [\n",
    "    load_and_label_data(\"dataset/preprocessed_spam.csv\", \"spam\"),\n",
    "    load_and_label_data(\"dataset/preprocessed_promotions.csv\", \"promotions\"),\n",
    "    load_and_label_data(\"dataset/preprocessed_updates.csv\", \"updates\"),\n",
    "    load_and_label_data(\"dataset/preprocessed_social.csv\", \"social\"),\n",
    "]\n",
    "\n",
    "df = pd.concat(dataframes, ignore_index=True)"
   ]
  },
  {
   "cell_type": "code",
   "execution_count": 5,
   "id": "68c26c93-8882-4693-837e-7db408b0f838",
   "metadata": {},
   "outputs": [],
   "source": [
    "# ========== STEP 2: Preprocessing ==========\n",
    "def clean_text(text):\n",
    "    text = text.lower()\n",
    "    tokens = text.split()\n",
    "    lemmatizer = WordNetLemmatizer()\n",
    "    cleaned = [lemmatizer.lemmatize(w) for w in tokens if w not in stopwords.words('english')]\n",
    "    return \" \".join(cleaned)\n",
    "\n",
    "df['text'] = df['Subject'].astype(str) + \" \" + df['Body'].astype(str)\n",
    "df['text'] = df['text'].apply(clean_text)\n",
    "\n",
    "# Encode labels\n",
    "label_encoder = LabelEncoder()\n",
    "df['label_encoded'] = label_encoder.fit_transform(df['label'])\n",
    "y = to_categorical(df['label_encoded'])\n",
    "\n",
    "# Tokenize and pad sequences\n",
    "tokenizer = Tokenizer(num_words=5000, oov_token=\"<OOV>\")\n",
    "tokenizer.fit_on_texts(df['text'])\n",
    "sequences = tokenizer.texts_to_sequences(df['text'])\n",
    "X = pad_sequences(sequences, maxlen=200)\n",
    "\n",
    "# Train-test split\n",
    "X_train, X_test, y_train, y_test = train_test_split(X, y, test_size=0.2, random_state=42)\n",
    "\n"
   ]
  },
  {
   "cell_type": "code",
   "execution_count": 75,
   "id": "a6b85197-eaec-40b7-a3b2-8d50af774ed0",
   "metadata": {},
   "outputs": [
    {
     "name": "stderr",
     "output_type": "stream",
     "text": [
      "C:\\Users\\udgir\\anaconda3\\Lib\\site-packages\\keras\\src\\layers\\core\\embedding.py:90: UserWarning: Argument `input_length` is deprecated. Just remove it.\n",
      "  warnings.warn(\n"
     ]
    }
   ],
   "source": [
    "# ========== STEP 3: Build CNN + BiLSTM Model ==========\n",
    "model = Sequential()\n",
    "model.add(Embedding(input_dim=5000, output_dim=128, input_length=200))\n",
    "model.add(Conv1D(filters=64, kernel_size=5, activation='relu'))\n",
    "model.add(MaxPooling1D(pool_size=2))\n",
    "model.add(Bidirectional(LSTM(64)))\n",
    "model.add(BatchNormalization())\n",
    "model.add(Dropout(0.6))\n",
    "model.add(Dense(64, activation='relu', kernel_regularizer=l2(0.01)))\n",
    "model.add(Dense(4, activation='softmax'))\n",
    "\n",
    "# Compile\n",
    "adam_optimizer = Adam(learning_rate=0.0001)\n",
    "model.compile(loss='categorical_crossentropy', optimizer=adam_optimizer, metrics=['accuracy'])"
   ]
  },
  {
   "cell_type": "code",
   "execution_count": 77,
   "id": "4e55e013-b477-4954-a1d5-71776ed05580",
   "metadata": {},
   "outputs": [
    {
     "name": "stdout",
     "output_type": "stream",
     "text": [
      "Epoch 1/80\n",
      "\u001b[1m83/83\u001b[0m \u001b[32m━━━━━━━━━━━━━━━━━━━━\u001b[0m\u001b[37m\u001b[0m \u001b[1m15s\u001b[0m 102ms/step - accuracy: 0.3916 - loss: 2.1388 - val_accuracy: 0.5908 - val_loss: 2.1516\n",
      "Epoch 2/80\n",
      "\u001b[1m83/83\u001b[0m \u001b[32m━━━━━━━━━━━━━━━━━━━━\u001b[0m\u001b[37m\u001b[0m \u001b[1m8s\u001b[0m 95ms/step - accuracy: 0.6928 - loss: 1.6670 - val_accuracy: 0.7080 - val_loss: 1.9936\n",
      "Epoch 3/80\n",
      "\u001b[1m83/83\u001b[0m \u001b[32m━━━━━━━━━━━━━━━━━━━━\u001b[0m\u001b[37m\u001b[0m \u001b[1m8s\u001b[0m 93ms/step - accuracy: 0.8274 - loss: 1.2867 - val_accuracy: 0.6061 - val_loss: 1.8438\n",
      "Epoch 4/80\n",
      "\u001b[1m83/83\u001b[0m \u001b[32m━━━━━━━━━━━━━━━━━━━━\u001b[0m\u001b[37m\u001b[0m \u001b[1m8s\u001b[0m 96ms/step - accuracy: 0.9122 - loss: 1.0052 - val_accuracy: 0.5076 - val_loss: 1.6848\n",
      "Epoch 5/80\n",
      "\u001b[1m83/83\u001b[0m \u001b[32m━━━━━━━━━━━━━━━━━━━━\u001b[0m\u001b[37m\u001b[0m \u001b[1m8s\u001b[0m 93ms/step - accuracy: 0.9549 - loss: 0.8295 - val_accuracy: 0.5823 - val_loss: 1.5400\n",
      "Epoch 6/80\n",
      "\u001b[1m83/83\u001b[0m \u001b[32m━━━━━━━━━━━━━━━━━━━━\u001b[0m\u001b[37m\u001b[0m \u001b[1m8s\u001b[0m 95ms/step - accuracy: 0.9682 - loss: 0.7436 - val_accuracy: 0.6740 - val_loss: 1.3912\n",
      "Epoch 7/80\n",
      "\u001b[1m83/83\u001b[0m \u001b[32m━━━━━━━━━━━━━━━━━━━━\u001b[0m\u001b[37m\u001b[0m \u001b[1m8s\u001b[0m 93ms/step - accuracy: 0.9760 - loss: 0.6616 - val_accuracy: 0.7963 - val_loss: 1.0883\n",
      "Epoch 8/80\n",
      "\u001b[1m83/83\u001b[0m \u001b[32m━━━━━━━━━━━━━━━━━━━━\u001b[0m\u001b[37m\u001b[0m \u001b[1m8s\u001b[0m 97ms/step - accuracy: 0.9774 - loss: 0.6144 - val_accuracy: 0.7284 - val_loss: 1.2678\n",
      "Epoch 9/80\n",
      "\u001b[1m83/83\u001b[0m \u001b[32m━━━━━━━━━━━━━━━━━━━━\u001b[0m\u001b[37m\u001b[0m \u001b[1m8s\u001b[0m 92ms/step - accuracy: 0.9839 - loss: 0.5531 - val_accuracy: 0.9440 - val_loss: 0.6137\n",
      "Epoch 10/80\n",
      "\u001b[1m83/83\u001b[0m \u001b[32m━━━━━━━━━━━━━━━━━━━━\u001b[0m\u001b[37m\u001b[0m \u001b[1m8s\u001b[0m 97ms/step - accuracy: 0.9871 - loss: 0.4996 - val_accuracy: 0.8676 - val_loss: 0.7771\n",
      "Epoch 11/80\n",
      "\u001b[1m83/83\u001b[0m \u001b[32m━━━━━━━━━━━━━━━━━━━━\u001b[0m\u001b[37m\u001b[0m \u001b[1m8s\u001b[0m 92ms/step - accuracy: 0.9868 - loss: 0.4528 - val_accuracy: 0.9406 - val_loss: 0.5578\n",
      "Epoch 12/80\n",
      "\u001b[1m83/83\u001b[0m \u001b[32m━━━━━━━━━━━━━━━━━━━━\u001b[0m\u001b[37m\u001b[0m \u001b[1m8s\u001b[0m 96ms/step - accuracy: 0.9885 - loss: 0.4202 - val_accuracy: 0.9593 - val_loss: 0.4787\n",
      "Epoch 13/80\n",
      "\u001b[1m83/83\u001b[0m \u001b[32m━━━━━━━━━━━━━━━━━━━━\u001b[0m\u001b[37m\u001b[0m \u001b[1m8s\u001b[0m 91ms/step - accuracy: 0.9892 - loss: 0.3773 - val_accuracy: 0.9508 - val_loss: 0.4820\n",
      "Epoch 14/80\n",
      "\u001b[1m83/83\u001b[0m \u001b[32m━━━━━━━━━━━━━━━━━━━━\u001b[0m\u001b[37m\u001b[0m \u001b[1m8s\u001b[0m 96ms/step - accuracy: 0.9911 - loss: 0.3448 - val_accuracy: 0.9593 - val_loss: 0.4220\n",
      "Epoch 15/80\n",
      "\u001b[1m83/83\u001b[0m \u001b[32m━━━━━━━━━━━━━━━━━━━━\u001b[0m\u001b[37m\u001b[0m \u001b[1m8s\u001b[0m 93ms/step - accuracy: 0.9951 - loss: 0.3054 - val_accuracy: 0.9559 - val_loss: 0.4108\n",
      "Epoch 16/80\n",
      "\u001b[1m83/83\u001b[0m \u001b[32m━━━━━━━━━━━━━━━━━━━━\u001b[0m\u001b[37m\u001b[0m \u001b[1m8s\u001b[0m 95ms/step - accuracy: 0.9930 - loss: 0.2858 - val_accuracy: 0.9406 - val_loss: 0.4323\n",
      "Epoch 17/80\n",
      "\u001b[1m83/83\u001b[0m \u001b[32m━━━━━━━━━━━━━━━━━━━━\u001b[0m\u001b[37m\u001b[0m \u001b[1m8s\u001b[0m 92ms/step - accuracy: 0.9927 - loss: 0.2610 - val_accuracy: 0.8913 - val_loss: 0.5845\n",
      "Epoch 18/80\n",
      "\u001b[1m83/83\u001b[0m \u001b[32m━━━━━━━━━━━━━━━━━━━━\u001b[0m\u001b[37m\u001b[0m \u001b[1m8s\u001b[0m 94ms/step - accuracy: 0.9950 - loss: 0.2355 - val_accuracy: 0.9525 - val_loss: 0.3391\n",
      "Epoch 19/80\n",
      "\u001b[1m83/83\u001b[0m \u001b[32m━━━━━━━━━━━━━━━━━━━━\u001b[0m\u001b[37m\u001b[0m \u001b[1m8s\u001b[0m 92ms/step - accuracy: 0.9940 - loss: 0.2157 - val_accuracy: 0.9576 - val_loss: 0.3288\n",
      "Epoch 20/80\n",
      "\u001b[1m83/83\u001b[0m \u001b[32m━━━━━━━━━━━━━━━━━━━━\u001b[0m\u001b[37m\u001b[0m \u001b[1m8s\u001b[0m 93ms/step - accuracy: 0.9946 - loss: 0.1948 - val_accuracy: 0.9151 - val_loss: 0.4115\n",
      "Epoch 21/80\n",
      "\u001b[1m83/83\u001b[0m \u001b[32m━━━━━━━━━━━━━━━━━━━━\u001b[0m\u001b[37m\u001b[0m \u001b[1m8s\u001b[0m 93ms/step - accuracy: 0.9952 - loss: 0.1758 - val_accuracy: 0.9559 - val_loss: 0.3200\n",
      "Epoch 22/80\n",
      "\u001b[1m83/83\u001b[0m \u001b[32m━━━━━━━━━━━━━━━━━━━━\u001b[0m\u001b[37m\u001b[0m \u001b[1m8s\u001b[0m 95ms/step - accuracy: 0.9934 - loss: 0.1633 - val_accuracy: 0.9525 - val_loss: 0.3151\n",
      "Epoch 23/80\n",
      "\u001b[1m83/83\u001b[0m \u001b[32m━━━━━━━━━━━━━━━━━━━━\u001b[0m\u001b[37m\u001b[0m \u001b[1m8s\u001b[0m 94ms/step - accuracy: 0.9955 - loss: 0.1461 - val_accuracy: 0.9491 - val_loss: 0.2975\n",
      "Epoch 24/80\n",
      "\u001b[1m83/83\u001b[0m \u001b[32m━━━━━━━━━━━━━━━━━━━━\u001b[0m\u001b[37m\u001b[0m \u001b[1m8s\u001b[0m 95ms/step - accuracy: 0.9957 - loss: 0.1326 - val_accuracy: 0.9576 - val_loss: 0.2520\n",
      "Epoch 25/80\n",
      "\u001b[1m83/83\u001b[0m \u001b[32m━━━━━━━━━━━━━━━━━━━━\u001b[0m\u001b[37m\u001b[0m \u001b[1m8s\u001b[0m 93ms/step - accuracy: 0.9969 - loss: 0.1186 - val_accuracy: 0.9134 - val_loss: 0.3867\n",
      "Epoch 26/80\n",
      "\u001b[1m83/83\u001b[0m \u001b[32m━━━━━━━━━━━━━━━━━━━━\u001b[0m\u001b[37m\u001b[0m \u001b[1m8s\u001b[0m 95ms/step - accuracy: 0.9978 - loss: 0.1083 - val_accuracy: 0.9219 - val_loss: 0.3769\n",
      "Epoch 27/80\n",
      "\u001b[1m83/83\u001b[0m \u001b[32m━━━━━━━━━━━━━━━━━━━━\u001b[0m\u001b[37m\u001b[0m \u001b[1m8s\u001b[0m 95ms/step - accuracy: 0.9952 - loss: 0.1062 - val_accuracy: 0.9593 - val_loss: 0.2270\n",
      "Epoch 28/80\n",
      "\u001b[1m83/83\u001b[0m \u001b[32m━━━━━━━━━━━━━━━━━━━━\u001b[0m\u001b[37m\u001b[0m \u001b[1m8s\u001b[0m 93ms/step - accuracy: 0.9974 - loss: 0.0901 - val_accuracy: 0.9100 - val_loss: 0.4073\n",
      "Epoch 29/80\n",
      "\u001b[1m83/83\u001b[0m \u001b[32m━━━━━━━━━━━━━━━━━━━━\u001b[0m\u001b[37m\u001b[0m \u001b[1m8s\u001b[0m 92ms/step - accuracy: 0.9958 - loss: 0.0906 - val_accuracy: 0.8693 - val_loss: 0.5256\n",
      "Epoch 30/80\n",
      "\u001b[1m83/83\u001b[0m \u001b[32m━━━━━━━━━━━━━━━━━━━━\u001b[0m\u001b[37m\u001b[0m \u001b[1m8s\u001b[0m 93ms/step - accuracy: 0.9969 - loss: 0.0797 - val_accuracy: 0.8998 - val_loss: 0.4667\n",
      "Epoch 31/80\n",
      "\u001b[1m83/83\u001b[0m \u001b[32m━━━━━━━━━━━━━━━━━━━━\u001b[0m\u001b[37m\u001b[0m \u001b[1m8s\u001b[0m 92ms/step - accuracy: 0.9971 - loss: 0.0758 - val_accuracy: 0.9491 - val_loss: 0.2469\n"
     ]
    },
    {
     "data": {
      "text/plain": [
       "<keras.src.callbacks.history.History at 0x215146baed0>"
      ]
     },
     "execution_count": 77,
     "metadata": {},
     "output_type": "execute_result"
    }
   ],
   "source": [
    "# ========== STEP 4: Training ==========\n",
    "early_stop = EarlyStopping(monitor='val_loss', patience=4, restore_best_weights=True)\n",
    "checkpoint = ModelCheckpoint('superImprovedDL.keras', monitor='val_loss', save_best_only=True)\n",
    "\n",
    "model.fit(\n",
    "    X_train, y_train,\n",
    "    epochs=80,\n",
    "    batch_size=64,\n",
    "    validation_split=0.1,\n",
    "    callbacks=[early_stop, checkpoint]\n",
    ")\n"
   ]
  },
  {
   "cell_type": "code",
   "execution_count": 79,
   "id": "4cfb462b-151f-41ac-a560-f2509c2b9c76",
   "metadata": {},
   "outputs": [
    {
     "name": "stdout",
     "output_type": "stream",
     "text": [
      "\u001b[1m47/47\u001b[0m \u001b[32m━━━━━━━━━━━━━━━━━━━━\u001b[0m\u001b[37m\u001b[0m \u001b[1m1s\u001b[0m 23ms/step - accuracy: 0.9271 - loss: 0.3572\n",
      "Test Accuracy: 0.95\n",
      "\u001b[1m47/47\u001b[0m \u001b[32m━━━━━━━━━━━━━━━━━━━━\u001b[0m\u001b[37m\u001b[0m \u001b[1m2s\u001b[0m 33ms/step\n",
      "\n",
      "Classification Report:\n",
      "              precision    recall  f1-score   support\n",
      "\n",
      "  promotions       0.92      0.92      0.92       401\n",
      "      social       1.00      0.97      0.98       398\n",
      "        spam       0.97      0.98      0.98       282\n",
      "     updates       0.91      0.92      0.92       392\n",
      "\n",
      "    accuracy                           0.95      1473\n",
      "   macro avg       0.95      0.95      0.95      1473\n",
      "weighted avg       0.95      0.95      0.95      1473\n",
      "\n",
      "Accuracy Score: 0.9470\n",
      "Macro F1 Score: 0.9492\n",
      "Weighted F1 Score: 0.9472\n"
     ]
    },
    {
     "data": {
      "image/png": "[encoded data removed]",
      "text/plain": [
       "<Figure size 800x600 with 2 Axes>"
      ]
     },
     "metadata": {},
     "output_type": "display_data"
    },
    {
     "name": "stdout",
     "output_type": "stream",
     "text": [
      "\n",
      "Detailed Classification Report:\n",
      "              precision    recall  f1-score      support\n",
      "promotions     0.920398  0.922693  0.921544   401.000000\n",
      "social         0.997423  0.972362  0.984733   398.000000\n",
      "spam           0.971831  0.978723  0.975265   282.000000\n",
      "updates        0.907268  0.923469  0.915297   392.000000\n",
      "accuracy       0.947047  0.947047  0.947047     0.947047\n",
      "macro avg      0.949230  0.949312  0.949210  1473.000000\n",
      "weighted avg   0.947562  0.947047  0.947240  1473.000000\n"
     ]
    }
   ],
   "source": [
    "# ========== STEP 5: Evaluation ==========\n",
    "loss, accuracy = model.evaluate(X_test, y_test)\n",
    "print(f\"Test Accuracy: {accuracy:.2f}\")\n",
    "\n",
    "# Generate predictions\n",
    "y_pred = model.predict(X_test)\n",
    "y_pred_classes = np.argmax(y_pred, axis=1)\n",
    "y_true_classes = np.argmax(y_test, axis=1)\n",
    "\n",
    "# Report\n",
    "print(\"\\nClassification Report:\")\n",
    "print(classification_report(y_true_classes, y_pred_classes, target_names=label_encoder.classes_))\n",
    "print(f\"Accuracy Score: {accuracy_score(y_true_classes, y_pred_classes):.4f}\")\n",
    "print(f\"Macro F1 Score: {f1_score(y_true_classes, y_pred_classes, average='macro'):.4f}\")\n",
    "print(f\"Weighted F1 Score: {f1_score(y_true_classes, y_pred_classes, average='weighted'):.4f}\")\n",
    "\n",
    "# Confusion Matrix\n",
    "cm = confusion_matrix(y_true_classes, y_pred_classes)\n",
    "plt.figure(figsize=(8, 6))\n",
    "sns.heatmap(cm, annot=True, fmt='d', cmap='Blues', xticklabels=label_encoder.classes_, yticklabels=label_encoder.classes_)\n",
    "plt.title(\"Confusion Matrix\")\n",
    "plt.xlabel(\"Predicted\")\n",
    "plt.ylabel(\"Actual\")\n",
    "plt.show()\n",
    "\n",
    "# Classification Report (already printed)\n",
    "report = classification_report(y_true_classes, y_pred_classes, target_names=label_encoder.classes_, output_dict=True)\n",
    "report_df = pd.DataFrame(report).transpose()\n",
    "\n",
    "print(\"\\nDetailed Classification Report:\")\n",
    "print(report_df)\n",
    "\n",
    "# Save report to CSV (optional)\n",
    "report_df.to_csv(\"detailed_classification_report.csv\", index=True)\n"
   ]
  },
  {
   "cell_type": "code",
   "execution_count": null,
   "id": "6423e28a-b9f1-4339-bf6a-2f909edb6029",
   "metadata": {},
   "outputs": [],
   "source": []
  }
 ],
 "metadata": {
  "kernelspec": {
   "display_name": "Python [conda env:base] *",
   "language": "python",
   "name": "conda-base-py"
  },
  "language_info": {
   "codemirror_mode": {
    "name": "ipython",
    "version": 3
   },
   "file_extension": ".py",
   "mimetype": "text/x-python",
   "name": "python",
   "nbconvert_exporter": "python",
   "pygments_lexer": "ipython3",
   "version": "3.12.7"
  }
 },
 "nbformat": 4,
 "nbformat_minor": 5
}
